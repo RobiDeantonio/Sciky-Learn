{
 "cells": [
  {
   "cell_type": "markdown",
   "id": "e38b03f4",
   "metadata": {},
   "source": [
    "# Concepts & Topics ML with Sciky-Learn"
   ]
  },
  {
   "cell_type": "code",
   "execution_count": null,
   "id": "3d083160",
   "metadata": {},
   "outputs": [],
   "source": [
    "import pandas as pd\n",
    "import numpy as np\n",
    "import sklearn\n",
    "import matplotlib.pyplot as plt\n",
    "\n",
    "from sklearn.decomposition import PCA, IncrementalPCA\n",
    "from sklearn.linear_model import LogisticRegression\n",
    "\n",
    "from sklearn.preprocessing import StandardScaler\n",
    "from sklearn.model_selection import train_test_split\n",
    "\n",
    "%matplotlib inline "
   ]
  },
  {
   "cell_type": "markdown",
   "id": "1635df1f",
   "metadata": {},
   "source": [
    "## PCA"
   ]
  },
  {
   "cell_type": "markdown",
   "id": "b35b0e14",
   "metadata": {},
   "source": [
    "<p align=\"center\">\n",
    "  <img src=\"./img/PCA.png\" width=\"600\" title=\"PCA\">\n",
    "</p>"
   ]
  },
  {
   "cell_type": "markdown",
   "id": "ae9f39d4",
   "metadata": {},
   "source": [
    "### Load Dataset "
   ]
  },
  {
   "cell_type": "code",
   "execution_count": 2,
   "id": "e8734e60",
   "metadata": {},
   "outputs": [
    {
     "data": {
      "text/html": [
       "<div>\n",
       "<style scoped>\n",
       "    .dataframe tbody tr th:only-of-type {\n",
       "        vertical-align: middle;\n",
       "    }\n",
       "\n",
       "    .dataframe tbody tr th {\n",
       "        vertical-align: top;\n",
       "    }\n",
       "\n",
       "    .dataframe thead th {\n",
       "        text-align: right;\n",
       "    }\n",
       "</style>\n",
       "<table border=\"1\" class=\"dataframe\">\n",
       "  <thead>\n",
       "    <tr style=\"text-align: right;\">\n",
       "      <th></th>\n",
       "      <th>age</th>\n",
       "      <th>sex</th>\n",
       "      <th>cp</th>\n",
       "      <th>trestbps</th>\n",
       "      <th>chol</th>\n",
       "      <th>fbs</th>\n",
       "      <th>restecg</th>\n",
       "      <th>thalach</th>\n",
       "      <th>exang</th>\n",
       "      <th>oldpeak</th>\n",
       "      <th>slope</th>\n",
       "      <th>ca</th>\n",
       "      <th>thal</th>\n",
       "      <th>target</th>\n",
       "    </tr>\n",
       "  </thead>\n",
       "  <tbody>\n",
       "    <tr>\n",
       "      <th>618</th>\n",
       "      <td>49</td>\n",
       "      <td>1</td>\n",
       "      <td>1</td>\n",
       "      <td>130</td>\n",
       "      <td>266</td>\n",
       "      <td>0</td>\n",
       "      <td>1</td>\n",
       "      <td>171</td>\n",
       "      <td>0</td>\n",
       "      <td>0.6</td>\n",
       "      <td>2</td>\n",
       "      <td>0</td>\n",
       "      <td>2</td>\n",
       "      <td>1</td>\n",
       "    </tr>\n",
       "    <tr>\n",
       "      <th>717</th>\n",
       "      <td>56</td>\n",
       "      <td>1</td>\n",
       "      <td>2</td>\n",
       "      <td>130</td>\n",
       "      <td>256</td>\n",
       "      <td>1</td>\n",
       "      <td>0</td>\n",
       "      <td>142</td>\n",
       "      <td>1</td>\n",
       "      <td>0.6</td>\n",
       "      <td>1</td>\n",
       "      <td>1</td>\n",
       "      <td>1</td>\n",
       "      <td>0</td>\n",
       "    </tr>\n",
       "    <tr>\n",
       "      <th>711</th>\n",
       "      <td>35</td>\n",
       "      <td>1</td>\n",
       "      <td>0</td>\n",
       "      <td>120</td>\n",
       "      <td>198</td>\n",
       "      <td>0</td>\n",
       "      <td>1</td>\n",
       "      <td>130</td>\n",
       "      <td>1</td>\n",
       "      <td>1.6</td>\n",
       "      <td>1</td>\n",
       "      <td>0</td>\n",
       "      <td>3</td>\n",
       "      <td>0</td>\n",
       "    </tr>\n",
       "  </tbody>\n",
       "</table>\n",
       "</div>"
      ],
      "text/plain": [
       "     age  sex  cp  trestbps  chol  fbs  restecg  thalach  exang  oldpeak  \\\n",
       "618   49    1   1       130   266    0        1      171      0      0.6   \n",
       "717   56    1   2       130   256    1        0      142      1      0.6   \n",
       "711   35    1   0       120   198    0        1      130      1      1.6   \n",
       "\n",
       "     slope  ca  thal  target  \n",
       "618      2   0     2       1  \n",
       "717      1   1     1       0  \n",
       "711      1   0     3       0  "
      ]
     },
     "execution_count": 2,
     "metadata": {},
     "output_type": "execute_result"
    }
   ],
   "source": [
    "dt_heart = pd.read_csv('./data/heart.csv')\n",
    "dt_heart.sample(3)"
   ]
  },
  {
   "cell_type": "markdown",
   "id": "d4f4ff59",
   "metadata": {},
   "source": [
    "### Separate features and target in different datasets"
   ]
  },
  {
   "cell_type": "code",
   "execution_count": 3,
   "id": "4c7d4385",
   "metadata": {},
   "outputs": [],
   "source": [
    "dt_features =  dt_heart.drop(['target'], axis=1)\n",
    "dt_target = dt_heart['target']"
   ]
  },
  {
   "cell_type": "markdown",
   "id": "67dc617e",
   "metadata": {},
   "source": [
    "### Normalize"
   ]
  },
  {
   "cell_type": "code",
   "execution_count": 4,
   "id": "e8fcb5dd",
   "metadata": {},
   "outputs": [],
   "source": [
    "dt_features = StandardScaler().fit_transform(dt_features)"
   ]
  },
  {
   "cell_type": "markdown",
   "id": "14515304",
   "metadata": {},
   "source": [
    "### The dataset is separated into a training set and a test set"
   ]
  },
  {
   "cell_type": "code",
   "execution_count": 5,
   "id": "d9c6c1bd",
   "metadata": {},
   "outputs": [],
   "source": [
    "x_train,x_test,y_train,y_test = train_test_split(dt_features, dt_target, test_size=0.3, random_state=42)"
   ]
  },
  {
   "cell_type": "code",
   "execution_count": 6,
   "id": "73d13204",
   "metadata": {},
   "outputs": [
    {
     "name": "stdout",
     "output_type": "stream",
     "text": [
      "(717, 13)\n",
      "(717,)\n"
     ]
    }
   ],
   "source": [
    "print(x_train.shape)\n",
    "print(y_train.shape)"
   ]
  },
  {
   "cell_type": "markdown",
   "id": "8730bb09",
   "metadata": {},
   "source": [
    "### Apply Principal Component Analysis"
   ]
  },
  {
   "cell_type": "code",
   "execution_count": 7,
   "id": "2ba4277a",
   "metadata": {},
   "outputs": [
    {
     "data": {
      "text/plain": [
       "IncrementalPCA(batch_size=10, n_components=3)"
      ]
     },
     "execution_count": 7,
     "metadata": {},
     "output_type": "execute_result"
    }
   ],
   "source": [
    "# n_components = min(n_muestras, n_feactures)\n",
    "pca = PCA(n_components=3)\n",
    "pca.fit(x_train)\n",
    "\n",
    "ipca = IncrementalPCA(n_components=3, batch_size=10)\n",
    "ipca.fit(x_train)"
   ]
  },
  {
   "cell_type": "markdown",
   "id": "5e8daeb5",
   "metadata": {},
   "source": [
    "### Plot the principal components and their contribution"
   ]
  },
  {
   "cell_type": "code",
   "execution_count": 8,
   "id": "22d7037b",
   "metadata": {},
   "outputs": [
    {
     "data": {
      "image/png": "[encoded data removed]",
      "text/plain": [
       "<Figure size 432x288 with 1 Axes>"
      ]
     },
     "metadata": {
      "needs_background": "light"
     },
     "output_type": "display_data"
    }
   ],
   "source": [
    "plt.plot(range(len(pca.explained_variance_)), pca.explained_variance_ratio_,\n",
    "         range(len(ipca.explained_variance_)), ipca.explained_variance_ratio_)\n",
    "plt.legend(['PCA','IPCA'])\n",
    "plt.show()"
   ]
  },
  {
   "cell_type": "markdown",
   "id": "dd2135e6",
   "metadata": {},
   "source": [
    "### Configure Regression and analyze models"
   ]
  },
  {
   "cell_type": "code",
   "execution_count": 9,
   "id": "4117e4b3",
   "metadata": {},
   "outputs": [],
   "source": [
    "logistic = LogisticRegression(solver='lbfgs')"
   ]
  },
  {
   "cell_type": "code",
   "execution_count": 10,
   "id": "6989ce3e",
   "metadata": {},
   "outputs": [
    {
     "name": "stdout",
     "output_type": "stream",
     "text": [
      "Score PCA:  0.7857142857142857\n"
     ]
    }
   ],
   "source": [
    "dt_train = pca.transform(x_train)\n",
    "dt_test = pca.transform(x_test)\n",
    "logistic.fit(dt_train, y_train)\n",
    "print('Score PCA: ', logistic.score(dt_test, y_test))"
   ]
  },
  {
   "cell_type": "code",
   "execution_count": 11,
   "id": "ffd8fb30",
   "metadata": {},
   "outputs": [
    {
     "name": "stdout",
     "output_type": "stream",
     "text": [
      "Score IPCA:  0.8051948051948052\n"
     ]
    }
   ],
   "source": [
    "dt_train = ipca.transform(x_train)\n",
    "dt_test = ipca.transform(x_test)\n",
    "logistic.fit(dt_train, y_train)\n",
    "print('Score IPCA: ', logistic.score(dt_test, y_test))"
   ]
  },
  {
   "cell_type": "markdown",
   "id": "158ba72d",
   "metadata": {},
   "source": [
    "## KERNELS"
   ]
  },
  {
   "cell_type": "markdown",
   "id": "787e590c",
   "metadata": {},
   "source": [
    "<p align=\"center\">\n",
    "  <img src=\"./img/kernelPCA.png\" width=\"900\" title=\"Kernel PCA\">\n",
    "</p>"
   ]
  },
  {
   "cell_type": "code",
   "execution_count": 12,
   "id": "1279f106",
   "metadata": {},
   "outputs": [],
   "source": [
    "from sklearn.decomposition import KernelPCA"
   ]
  },
  {
   "cell_type": "code",
   "execution_count": 13,
   "id": "5929a063",
   "metadata": {},
   "outputs": [
    {
     "data": {
      "text/plain": [
       "KernelPCA(kernel='poly', n_components=4)"
      ]
     },
     "execution_count": 13,
     "metadata": {},
     "output_type": "execute_result"
    }
   ],
   "source": [
    "kpca = KernelPCA(n_components=4, kernel='poly')\n",
    "kpca.fit(x_train)"
   ]
  },
  {
   "cell_type": "code",
   "execution_count": 14,
   "id": "e09fce2c",
   "metadata": {},
   "outputs": [],
   "source": [
    "dt_train = kpca.transform(x_train)\n",
    "dt_test = kpca.transform(x_test)\n",
    "logistic = LogisticRegression(solver='lbfgs')"
   ]
  },
  {
   "cell_type": "code",
   "execution_count": 15,
   "id": "9969b2eb",
   "metadata": {},
   "outputs": [
    {
     "name": "stdout",
     "output_type": "stream",
     "text": [
      "Score KPCA:  0.7987012987012987\n"
     ]
    }
   ],
   "source": [
    "logistic.fit(dt_train, y_train)\n",
    "print('Score KPCA: ', logistic.score(dt_test,y_test))"
   ]
  },
  {
   "cell_type": "markdown",
   "id": "96ac0a1a",
   "metadata": {},
   "source": [
    "## Regularization"
   ]
  },
  {
   "cell_type": "code",
   "execution_count": 16,
   "id": "3bb9c025",
   "metadata": {},
   "outputs": [],
   "source": [
    "from sklearn.linear_model import LinearRegression\n",
    "from sklearn.linear_model import Lasso, Ridge\n",
    "from sklearn.metrics import mean_absolute_error"
   ]
  },
  {
   "cell_type": "markdown",
   "id": "e47afbee",
   "metadata": {},
   "source": [
    "### Load Dataset"
   ]
  },
  {
   "cell_type": "code",
   "execution_count": 17,
   "id": "63aa8773",
   "metadata": {},
   "outputs": [
    {
     "data": {
      "text/html": [
       "<div>\n",
       "<style scoped>\n",
       "    .dataframe tbody tr th:only-of-type {\n",
       "        vertical-align: middle;\n",
       "    }\n",
       "\n",
       "    .dataframe tbody tr th {\n",
       "        vertical-align: top;\n",
       "    }\n",
       "\n",
       "    .dataframe thead th {\n",
       "        text-align: right;\n",
       "    }\n",
       "</style>\n",
       "<table border=\"1\" class=\"dataframe\">\n",
       "  <thead>\n",
       "    <tr style=\"text-align: right;\">\n",
       "      <th></th>\n",
       "      <th>country</th>\n",
       "      <th>rank</th>\n",
       "      <th>score</th>\n",
       "      <th>high</th>\n",
       "      <th>low</th>\n",
       "      <th>gdp</th>\n",
       "      <th>family</th>\n",
       "      <th>lifexp</th>\n",
       "      <th>freedom</th>\n",
       "      <th>generosity</th>\n",
       "      <th>corruption</th>\n",
       "      <th>dystopia</th>\n",
       "    </tr>\n",
       "  </thead>\n",
       "  <tbody>\n",
       "    <tr>\n",
       "      <th>94</th>\n",
       "      <td>Nigeria</td>\n",
       "      <td>95</td>\n",
       "      <td>5.074</td>\n",
       "      <td>5.209500</td>\n",
       "      <td>4.938500</td>\n",
       "      <td>0.783756</td>\n",
       "      <td>1.215770</td>\n",
       "      <td>0.056916</td>\n",
       "      <td>0.394953</td>\n",
       "      <td>0.230947</td>\n",
       "      <td>0.026122</td>\n",
       "      <td>2.365391</td>\n",
       "    </tr>\n",
       "    <tr>\n",
       "      <th>129</th>\n",
       "      <td>Sudan</td>\n",
       "      <td>130</td>\n",
       "      <td>4.139</td>\n",
       "      <td>4.345747</td>\n",
       "      <td>3.932253</td>\n",
       "      <td>0.659517</td>\n",
       "      <td>1.214009</td>\n",
       "      <td>0.290921</td>\n",
       "      <td>0.014996</td>\n",
       "      <td>0.182317</td>\n",
       "      <td>0.089848</td>\n",
       "      <td>1.687066</td>\n",
       "    </tr>\n",
       "    <tr>\n",
       "      <th>100</th>\n",
       "      <td>South Africa</td>\n",
       "      <td>101</td>\n",
       "      <td>4.829</td>\n",
       "      <td>4.929435</td>\n",
       "      <td>4.728565</td>\n",
       "      <td>1.054699</td>\n",
       "      <td>1.384789</td>\n",
       "      <td>0.187080</td>\n",
       "      <td>0.479247</td>\n",
       "      <td>0.139362</td>\n",
       "      <td>0.072509</td>\n",
       "      <td>1.510909</td>\n",
       "    </tr>\n",
       "  </tbody>\n",
       "</table>\n",
       "</div>"
      ],
      "text/plain": [
       "          country  rank  score      high       low       gdp    family  \\\n",
       "94        Nigeria    95  5.074  5.209500  4.938500  0.783756  1.215770   \n",
       "129         Sudan   130  4.139  4.345747  3.932253  0.659517  1.214009   \n",
       "100  South Africa   101  4.829  4.929435  4.728565  1.054699  1.384789   \n",
       "\n",
       "       lifexp   freedom  generosity  corruption  dystopia  \n",
       "94   0.056916  0.394953    0.230947    0.026122  2.365391  \n",
       "129  0.290921  0.014996    0.182317    0.089848  1.687066  \n",
       "100  0.187080  0.479247    0.139362    0.072509  1.510909  "
      ]
     },
     "execution_count": 17,
     "metadata": {},
     "output_type": "execute_result"
    }
   ],
   "source": [
    "felicidad_df = pd.read_csv('./data/felicidad.csv')\n",
    "felicidad_df.sample(3)"
   ]
  },
  {
   "cell_type": "code",
   "execution_count": 18,
   "id": "53584d49",
   "metadata": {},
   "outputs": [],
   "source": [
    "X =  felicidad_df[['gdp','family','lifexp','freedom','corruption', 'generosity','dystopia']]\n",
    "y =  felicidad_df['score']"
   ]
  },
  {
   "cell_type": "code",
   "execution_count": 19,
   "id": "75c1e51c",
   "metadata": {},
   "outputs": [
    {
     "name": "stdout",
     "output_type": "stream",
     "text": [
      "(155, 7)\n",
      "(155,)\n"
     ]
    }
   ],
   "source": [
    "print(X.shape)\n",
    "print(y.shape)"
   ]
  },
  {
   "cell_type": "code",
   "execution_count": 20,
   "id": "f241f19d",
   "metadata": {},
   "outputs": [],
   "source": [
    "X_train, X_test, y_train, y_test = train_test_split(X, y, test_size=0.25)"
   ]
  },
  {
   "cell_type": "markdown",
   "id": "cfa0f55d",
   "metadata": {},
   "source": [
    "Recordando que :\n",
    "\n",
    "<ul> \n",
    "    <li>Ninguna de las dos es mejor que la otra para todos los casos.\n",
    "    <li>Lasso envía algunos coeficientes a cero permitiendo así seleccionar variables significativas para el modelo.\n",
    "    <li>Lasso funciona mejor si tenemos pocos predictores que influyen sobre el modelo.\n",
    "    <li>Ridge funciona mejor si es el caso contrario y tenemos una gran cantidad.\n",
    "</ul>"
   ]
  },
  {
   "cell_type": "code",
   "execution_count": 21,
   "id": "59b5c446",
   "metadata": {},
   "outputs": [],
   "source": [
    "modelLinear = LinearRegression().fit(X_train, y_train)\n",
    "y_predict_linear =  modelLinear.predict(X_test)"
   ]
  },
  {
   "cell_type": "code",
   "execution_count": 22,
   "id": "c50fd397",
   "metadata": {},
   "outputs": [],
   "source": [
    "modelLasso = Lasso(alpha=0.02).fit(X_train, y_train)\n",
    "y_predict_lasso =  modelLasso.predict(X_test)"
   ]
  },
  {
   "cell_type": "code",
   "execution_count": 23,
   "id": "f1886f9d",
   "metadata": {},
   "outputs": [],
   "source": [
    "modelRidge = Ridge(alpha=1).fit(X_train, y_train)\n",
    "y_predict_ridge =  modelRidge.predict(X_test)"
   ]
  },
  {
   "cell_type": "code",
   "execution_count": 24,
   "id": "dd5b1f4e",
   "metadata": {},
   "outputs": [],
   "source": [
    "linear_loss = mean_absolute_error(y_test, y_predict_linear)\n",
    "lasso_loss = mean_absolute_error(y_test, y_predict_lasso)\n",
    "ridge_loss = mean_absolute_error(y_test, y_predict_ridge)"
   ]
  },
  {
   "cell_type": "code",
   "execution_count": 25,
   "id": "d01a5134",
   "metadata": {},
   "outputs": [
    {
     "name": "stdout",
     "output_type": "stream",
     "text": [
      "Linear Loss: 0.00023766072112967442 , Lasso Loss: 0.15007205364007076 , Ridge Loss: 0.0516466209781303\n"
     ]
    }
   ],
   "source": [
    "print('Linear Loss:',linear_loss, ', Lasso Loss:', lasso_loss, ', Ridge Loss:', ridge_loss)"
   ]
  },
  {
   "cell_type": "code",
   "execution_count": 26,
   "id": "58cfcf48",
   "metadata": {},
   "outputs": [
    {
     "name": "stdout",
     "output_type": "stream",
     "text": [
      "Coeficient Lasso: [1.00013536 0.99992043 0.9998032  0.99991777 0.99984817 1.00008604\n",
      " 0.99994363]\n",
      "Coeficient Lasso: [1.33081999 0.85324128 0.51649577 0.71833439 0.         0.26806119\n",
      " 0.96099623]\n",
      "Coeficient Ridge: [1.08566484 0.95041369 0.87056928 0.88264857 0.63796465 0.76902573\n",
      " 0.97846985]\n"
     ]
    }
   ],
   "source": [
    "print('Coeficient Lasso:', modelLinear.coef_)\n",
    "print('Coeficient Lasso:', modelLasso.coef_)\n",
    "print('Coeficient Ridge:', modelRidge.coef_)"
   ]
  },
  {
   "cell_type": "markdown",
   "id": "49dfae17",
   "metadata": {},
   "source": [
    "### Regularización ElasticNet\n",
    "\n",
    "Es común encontrarnos en la literatura con un camino intermedio llamado ElasticNet. Esta técnica consiste en combinar las dos penalizaciones anteriores en una sola función. Así, nuestra ecuación de optimización quedará:\n",
    "\n",
    "Donde tenemos ahora un parámetro adicional 𝛂 que tiene un rango de valores entre 0 y 1. Si 𝛂 = 0 , ElasticNet se comportará como Ridge, y si 𝛂 = 1 , se comportará como Lasso. Por lo tanto, nos brinda todo el espectro lineal de posibles combinaciones entre estos dos extremos.\n",
    "\n",
    "<ul>\n",
    "    <li>Tenemos una forma de probar ambas L1 y L2 al tiempo sin perder información.\n",
    "    <li>Supera las limitaciones individuales de ellas.\n",
    "    <li>Si hace falta experiencia, o el conocimiento matemático de fondo, puede ser la opción preferente para probar la regularización.\n",
    "</ul>\n"
   ]
  },
  {
   "cell_type": "code",
   "execution_count": 27,
   "id": "cfd2ea0b",
   "metadata": {},
   "outputs": [],
   "source": [
    "from sklearn.linear_model import ElasticNet"
   ]
  },
  {
   "cell_type": "code",
   "execution_count": 28,
   "id": "ee16cf96",
   "metadata": {},
   "outputs": [],
   "source": [
    "modelElastic = ElasticNet(random_state=0).fit(X, y)\n",
    "y_predict_Elas =  modelElastic.predict(X_test)"
   ]
  },
  {
   "cell_type": "code",
   "execution_count": 29,
   "id": "ee148401",
   "metadata": {},
   "outputs": [
    {
     "name": "stdout",
     "output_type": "stream",
     "text": [
      "Elastic Loss: 0.9558732717518612\n"
     ]
    }
   ],
   "source": [
    "Elastic_loss = mean_absolute_error(y_test, y_predict_Elas)\n",
    "print('Elastic Loss:',Elastic_loss)"
   ]
  },
  {
   "cell_type": "markdown",
   "id": "aa97ddf2",
   "metadata": {},
   "source": [
    "## Outliers"
   ]
  },
  {
   "cell_type": "markdown",
   "id": "0b3e8f63",
   "metadata": {},
   "source": [
    "An outlier is an observation that lies an abnormal distance from other values in a random sample from a population. In a sense, this definition leaves it up to the analyst (or a consensus process) to decide what will be considered abnormal. Before abnormal observations can be singled out, it is necessary to characterize normal observations."
   ]
  },
  {
   "cell_type": "markdown",
   "id": "cbc329b4",
   "metadata": {},
   "source": [
    "### How to identify them?"
   ]
  },
  {
   "cell_type": "markdown",
   "id": "3fb19006",
   "metadata": {},
   "source": [
    "### Z-Score\n",
    "Is also known as **standard score** gives us an idea of how far a data point is from the mean. It indicates how many standard deviations an element is from the mean. Hence, Z-Score is measured in terms of standard deviation from the mean. For example, a standard deviation of 2 indicates the value is 2 standard deviations away from the mean. In order to use a z-score, we need to know the population mean (μ) and also the population standard deviation (σ). \n",
    "\n",
    "A z-score can be calculated using the following formula. \n",
    " \n",
    "    z = (X – μ) / σ\n",
    "where, \n",
    "z = Z-Score   \n",
    "X = The value of the element   \n",
    "μ = The population mean  \n",
    "σ = The population standard deviation \n",
    "\n",
    "<p align=\"center\">\n",
    "      <img src=\"./img/z-score.png\" width=\"600\" title=\"Outliers\">\n",
    "</p>"
   ]
  },
  {
   "cell_type": "markdown",
   "id": "65030864",
   "metadata": {},
   "source": [
    "### Quartiles\n",
    "The box plot is a useful graphical display for describing the behavior of the data in the middle as well as at the ends of the distributions. The box plot uses the median and the lower and upper quartiles (defined as the 25th and 75th percentiles). If the lower quartile is Q1 and the upper quartile is Q3, then the difference (Q3 - Q1) is called the interquartile range or IQR.\n",
    "<p align=\"center\">\n",
    "  <img src=\"./img/boxplot.png\" width=\"600\" title=\"Outliers\">\n",
    "</p>"
   ]
  },
  {
   "cell_type": "markdown",
   "id": "1934ee20",
   "metadata": {},
   "source": [
    "### DBSCAN:     _Density-Based Spatial Clustering of Applications with Noise_\n",
    "**A density-based unsupervised algorithm**, it takes multi-dimensional data as inputs and clusters them according to the model parameters — e.g. epsilon and minimum samples. Based on these parameters, the algorithm determines whether certain values in the dataset are outliers or not.\n",
    "<p align=\"center\">\n",
    "  <img src=\"./img/DBSCAN.png\" width=\"500\" title=\"Outliers\">\n",
    "</p>"
   ]
  },
  {
   "cell_type": "markdown",
   "id": "88264352",
   "metadata": {},
   "source": [
    "## Robust Regression"
   ]
  },
  {
   "cell_type": "markdown",
   "id": "68db99b6",
   "metadata": {},
   "source": [
    "### RANSAC:  random sample Consensus\n",
    "Selects a random sample of the data assuming that this sample is within the inliners values, with these data the model is trained and its behavior compared with the other data. This procedure is repeated as many times as indicated and at the end of the algorithm it chooses the combination of data that has the best number of inliners, where the outliers can be effectively discriminated.\n",
    "<p align=\"center\">\n",
    "    <img src=\"./img/ransac1.png\" width=\"600\" title=\"RANSAC\">\n",
    "</p>"
   ]
  },
  {
   "cell_type": "markdown",
   "id": "b28092bf",
   "metadata": {},
   "source": [
    "### Huber Reggresor\n",
    "No elimina los valores atípicos sino que los penaliza. Realiza el entrenamiento y si el error absoluto de la perdida alcanza cierto umbral (epsilon) los datos son tratados como atípicos. El valor por defecto de epsilon es 1.35 ya que se ha demostrado que logra un 95% de eficiencia estadística."
   ]
  },
  {
   "cell_type": "code",
   "execution_count": 30,
   "id": "0bacbdeb",
   "metadata": {},
   "outputs": [],
   "source": [
    "from sklearn.linear_model import RANSACRegressor, HuberRegressor\n",
    "from sklearn.svm import SVR"
   ]
  },
  {
   "cell_type": "code",
   "execution_count": 31,
   "id": "c4c41755",
   "metadata": {},
   "outputs": [
    {
     "data": {
      "text/html": [
       "<div>\n",
       "<style scoped>\n",
       "    .dataframe tbody tr th:only-of-type {\n",
       "        vertical-align: middle;\n",
       "    }\n",
       "\n",
       "    .dataframe tbody tr th {\n",
       "        vertical-align: top;\n",
       "    }\n",
       "\n",
       "    .dataframe thead th {\n",
       "        text-align: right;\n",
       "    }\n",
       "</style>\n",
       "<table border=\"1\" class=\"dataframe\">\n",
       "  <thead>\n",
       "    <tr style=\"text-align: right;\">\n",
       "      <th></th>\n",
       "      <th>country</th>\n",
       "      <th>rank</th>\n",
       "      <th>score</th>\n",
       "      <th>high</th>\n",
       "      <th>low</th>\n",
       "      <th>gdp</th>\n",
       "      <th>family</th>\n",
       "      <th>lifexp</th>\n",
       "      <th>freedom</th>\n",
       "      <th>generosity</th>\n",
       "      <th>corruption</th>\n",
       "      <th>dystopia</th>\n",
       "    </tr>\n",
       "  </thead>\n",
       "  <tbody>\n",
       "    <tr>\n",
       "      <th>41</th>\n",
       "      <td>Malaysia</td>\n",
       "      <td>42</td>\n",
       "      <td>6.084</td>\n",
       "      <td>6.179980</td>\n",
       "      <td>5.988021</td>\n",
       "      <td>1.291215</td>\n",
       "      <td>1.284646</td>\n",
       "      <td>0.618784</td>\n",
       "      <td>0.402265</td>\n",
       "      <td>0.416609</td>\n",
       "      <td>0.065601</td>\n",
       "      <td>2.004449</td>\n",
       "    </tr>\n",
       "    <tr>\n",
       "      <th>138</th>\n",
       "      <td>Lesotho</td>\n",
       "      <td>139</td>\n",
       "      <td>3.808</td>\n",
       "      <td>4.044344</td>\n",
       "      <td>3.571656</td>\n",
       "      <td>0.521021</td>\n",
       "      <td>1.190095</td>\n",
       "      <td>0.000000</td>\n",
       "      <td>0.390661</td>\n",
       "      <td>0.157497</td>\n",
       "      <td>0.119095</td>\n",
       "      <td>1.429835</td>\n",
       "    </tr>\n",
       "    <tr>\n",
       "      <th>0</th>\n",
       "      <td>Norway</td>\n",
       "      <td>1</td>\n",
       "      <td>7.537</td>\n",
       "      <td>7.594445</td>\n",
       "      <td>7.479556</td>\n",
       "      <td>1.616463</td>\n",
       "      <td>1.533524</td>\n",
       "      <td>0.796667</td>\n",
       "      <td>0.635423</td>\n",
       "      <td>0.362012</td>\n",
       "      <td>0.315964</td>\n",
       "      <td>2.277027</td>\n",
       "    </tr>\n",
       "  </tbody>\n",
       "</table>\n",
       "</div>"
      ],
      "text/plain": [
       "      country  rank  score      high       low       gdp    family    lifexp  \\\n",
       "41   Malaysia    42  6.084  6.179980  5.988021  1.291215  1.284646  0.618784   \n",
       "138   Lesotho   139  3.808  4.044344  3.571656  0.521021  1.190095  0.000000   \n",
       "0      Norway     1  7.537  7.594445  7.479556  1.616463  1.533524  0.796667   \n",
       "\n",
       "      freedom  generosity  corruption  dystopia  \n",
       "41   0.402265    0.416609    0.065601  2.004449  \n",
       "138  0.390661    0.157497    0.119095  1.429835  \n",
       "0    0.635423    0.362012    0.315964  2.277027  "
      ]
     },
     "execution_count": 31,
     "metadata": {},
     "output_type": "execute_result"
    }
   ],
   "source": [
    "felicidad_df = pd.read_csv('./data/felicidad.csv')\n",
    "felicidad_df.sample(3)"
   ]
  },
  {
   "cell_type": "code",
   "execution_count": 32,
   "id": "5a769167",
   "metadata": {},
   "outputs": [],
   "source": [
    "X =  felicidad_df.drop(['country', 'score'], axis=1)\n",
    "y =  felicidad_df['score']"
   ]
  },
  {
   "cell_type": "code",
   "execution_count": 33,
   "id": "d3a04388",
   "metadata": {},
   "outputs": [],
   "source": [
    "X_train, X_test, y_train, y_test = train_test_split(X, y, test_size=0.3, random_state=42)"
   ]
  },
  {
   "cell_type": "code",
   "execution_count": 34,
   "id": "430800f5",
   "metadata": {},
   "outputs": [],
   "source": [
    "stimators = {'SVR':SVR(gamma='auto',C=1.0, epsilon=0.1),\n",
    "            'RANSAC': RANSACRegressor(),\n",
    "            'HUBER': HuberRegressor(epsilon=1.35)}"
   ]
  },
  {
   "cell_type": "code",
   "execution_count": 35,
   "id": "4aac33ad",
   "metadata": {},
   "outputs": [
    {
     "name": "stdout",
     "output_type": "stream",
     "text": [
      "****************************************************************\n",
      "SVR\n",
      "MSE: 0.13027953232268732\n"
     ]
    },
    {
     "data": {
      "image/png": "[encoded data removed]",
      "text/plain": [
       "<Figure size 432x288 with 1 Axes>"
      ]
     },
     "metadata": {
      "needs_background": "light"
     },
     "output_type": "display_data"
    },
    {
     "name": "stdout",
     "output_type": "stream",
     "text": [
      "****************************************************************\n",
      "RANSAC\n",
      "MSE: 2.5535051142113884e-10\n"
     ]
    },
    {
     "data": {
      "image/png": "[encoded data removed]",
      "text/plain": [
       "<Figure size 432x288 with 1 Axes>"
      ]
     },
     "metadata": {
      "needs_background": "light"
     },
     "output_type": "display_data"
    },
    {
     "name": "stdout",
     "output_type": "stream",
     "text": [
      "****************************************************************\n",
      "HUBER\n",
      "MSE: 0.0009279514955578373\n"
     ]
    },
    {
     "data": {
      "image/png": "[encoded data removed]",
      "text/plain": [
       "<Figure size 432x288 with 1 Axes>"
      ]
     },
     "metadata": {
      "needs_background": "light"
     },
     "output_type": "display_data"
    }
   ],
   "source": [
    "import warnings\n",
    "warnings.simplefilter(\"ignore\")\n",
    "\n",
    "for name, stimator in stimators.items():\n",
    "    stimator.fit(X_train,y_train)\n",
    "    predictions = stimator.predict(X_test)\n",
    "    print('*'*64)\n",
    "    print(name)\n",
    "    print('MSE:', mean_absolute_error(y_test,predictions))\n",
    "    plt.ylabel('Predicted Score')\n",
    "    plt.xlabel('Real Score')\n",
    "    plt.title('Predicted VS Real')\n",
    "    plt.scatter(y_test, predictions)\n",
    "    plt.plot(predictions, predictions,'r--')\n",
    "    plt.show()"
   ]
  },
  {
   "cell_type": "markdown",
   "id": "6de93421",
   "metadata": {},
   "source": [
    "## Assembly Methods"
   ]
  },
  {
   "cell_type": "markdown",
   "id": "3bbb2f63",
   "metadata": {},
   "source": [
    "Ensemble is a Machine Learning concept in which the idea is to train multiple models using the same learning algorithm. The ensembles take part in a bigger group of methods, called multiclassifiers, where a set of hundreds or thousands of learners with a common objective are fused together to solve the problem.  \n",
    "\n",
    "The main causes of error in learning are due to noise, bias and variance. Ensemble helps to minimize these factors. These methods are designed to improve the stability and the accuracy of Machine Learning algorithms. Combinations of multiple classifiers decrease variance, especially in the case of unstable classifiers, and may produce a more reliable classification than a single classifier.\n",
    "\n",
    "To use Bagging or Boosting you must select a base learner algorithm. For example, if we choose a classification tree, Bagging and Boosting would consist of a pool of trees as big as we want. \n",
    "\n",
    "<p align=\"center\">\n",
    "  <img src=\"./img/ens1.png\" width=\"600\" title=\"Assembly methods\">\n",
    "  <img src=\"./img/ens2.png\" width=\"600\" title=\"Assembly methods\">\n",
    "  <img src=\"./img/ens3.png\" width=\"600\" title=\"Assembly methods\">\n",
    "  <img src=\"./img/ens4.png\" width=\"600\" title=\"Assembly methods\">\n",
    "  <img src=\"./img/ens5.png\" width=\"600\" title=\"Assembly methods\">\n",
    "</p>\n",
    "\n",
    "\n",
    "`Source` : <https://quantdare.com/what-is-the-difference-between-bagging-and-boosting/>"
   ]
  },
  {
   "cell_type": "code",
   "execution_count": 36,
   "id": "f8ce5292",
   "metadata": {},
   "outputs": [],
   "source": [
    "from sklearn.neighbors import KNeighborsClassifier\n",
    "from sklearn.ensemble import BaggingClassifier\n",
    "\n",
    "from sklearn.metrics import accuracy_score"
   ]
  },
  {
   "cell_type": "code",
   "execution_count": 37,
   "id": "82f0bf7f",
   "metadata": {},
   "outputs": [
    {
     "data": {
      "text/html": [
       "<div>\n",
       "<style scoped>\n",
       "    .dataframe tbody tr th:only-of-type {\n",
       "        vertical-align: middle;\n",
       "    }\n",
       "\n",
       "    .dataframe tbody tr th {\n",
       "        vertical-align: top;\n",
       "    }\n",
       "\n",
       "    .dataframe thead th {\n",
       "        text-align: right;\n",
       "    }\n",
       "</style>\n",
       "<table border=\"1\" class=\"dataframe\">\n",
       "  <thead>\n",
       "    <tr style=\"text-align: right;\">\n",
       "      <th></th>\n",
       "      <th>age</th>\n",
       "      <th>sex</th>\n",
       "      <th>cp</th>\n",
       "      <th>trestbps</th>\n",
       "      <th>chol</th>\n",
       "      <th>fbs</th>\n",
       "      <th>restecg</th>\n",
       "      <th>thalach</th>\n",
       "      <th>exang</th>\n",
       "      <th>oldpeak</th>\n",
       "      <th>slope</th>\n",
       "      <th>ca</th>\n",
       "      <th>thal</th>\n",
       "      <th>target</th>\n",
       "    </tr>\n",
       "  </thead>\n",
       "  <tbody>\n",
       "    <tr>\n",
       "      <th>36</th>\n",
       "      <td>51</td>\n",
       "      <td>1</td>\n",
       "      <td>3</td>\n",
       "      <td>125</td>\n",
       "      <td>213</td>\n",
       "      <td>0</td>\n",
       "      <td>0</td>\n",
       "      <td>125</td>\n",
       "      <td>1</td>\n",
       "      <td>1.4</td>\n",
       "      <td>2</td>\n",
       "      <td>1</td>\n",
       "      <td>2</td>\n",
       "      <td>1</td>\n",
       "    </tr>\n",
       "    <tr>\n",
       "      <th>198</th>\n",
       "      <td>60</td>\n",
       "      <td>0</td>\n",
       "      <td>2</td>\n",
       "      <td>102</td>\n",
       "      <td>318</td>\n",
       "      <td>0</td>\n",
       "      <td>1</td>\n",
       "      <td>160</td>\n",
       "      <td>0</td>\n",
       "      <td>0.0</td>\n",
       "      <td>2</td>\n",
       "      <td>1</td>\n",
       "      <td>2</td>\n",
       "      <td>1</td>\n",
       "    </tr>\n",
       "    <tr>\n",
       "      <th>428</th>\n",
       "      <td>43</td>\n",
       "      <td>1</td>\n",
       "      <td>0</td>\n",
       "      <td>132</td>\n",
       "      <td>247</td>\n",
       "      <td>1</td>\n",
       "      <td>0</td>\n",
       "      <td>143</td>\n",
       "      <td>1</td>\n",
       "      <td>0.1</td>\n",
       "      <td>1</td>\n",
       "      <td>4</td>\n",
       "      <td>3</td>\n",
       "      <td>0</td>\n",
       "    </tr>\n",
       "  </tbody>\n",
       "</table>\n",
       "</div>"
      ],
      "text/plain": [
       "     age  sex  cp  trestbps  chol  fbs  restecg  thalach  exang  oldpeak  \\\n",
       "36    51    1   3       125   213    0        0      125      1      1.4   \n",
       "198   60    0   2       102   318    0        1      160      0      0.0   \n",
       "428   43    1   0       132   247    1        0      143      1      0.1   \n",
       "\n",
       "     slope  ca  thal  target  \n",
       "36       2   1     2       1  \n",
       "198      2   1     2       1  \n",
       "428      1   4     3       0  "
      ]
     },
     "execution_count": 37,
     "metadata": {},
     "output_type": "execute_result"
    }
   ],
   "source": [
    "dt_heart = pd.read_csv('./data/heart.csv')\n",
    "dt_heart.sample(3)"
   ]
  },
  {
   "cell_type": "code",
   "execution_count": 38,
   "id": "c981a97b",
   "metadata": {},
   "outputs": [],
   "source": [
    "X = dt_heart.drop(['target'], axis=1)\n",
    "y = dt_heart['target']"
   ]
  },
  {
   "cell_type": "code",
   "execution_count": 39,
   "id": "d36376e0",
   "metadata": {},
   "outputs": [],
   "source": [
    "X_train, X_test, y_train, y_test = train_test_split(X, y, test_size=0.35)"
   ]
  },
  {
   "cell_type": "markdown",
   "id": "d9f3608c",
   "metadata": {},
   "source": [
    "### Bagging"
   ]
  },
  {
   "cell_type": "code",
   "execution_count": 40,
   "id": "06ccd3a0",
   "metadata": {},
   "outputs": [
    {
     "name": "stdout",
     "output_type": "stream",
     "text": [
      "0.7214484679665738\n"
     ]
    }
   ],
   "source": [
    "knn_class = KNeighborsClassifier().fit(X_train,y_train)\n",
    "knn_predict = knn_class.predict(X_test)\n",
    "print(accuracy_score(knn_predict, y_test))"
   ]
  },
  {
   "cell_type": "code",
   "execution_count": 41,
   "id": "9f37cfe9",
   "metadata": {},
   "outputs": [
    {
     "name": "stdout",
     "output_type": "stream",
     "text": [
      "0.7576601671309192\n"
     ]
    }
   ],
   "source": [
    "bag_class = BaggingClassifier(base_estimator=KNeighborsClassifier(), n_estimators=50).fit(X_train,y_train)\n",
    "bag_predict = bag_class.predict(X_test)\n",
    "print(accuracy_score(bag_predict, y_test))"
   ]
  },
  {
   "cell_type": "markdown",
   "id": "b141b548",
   "metadata": {},
   "source": [
    "### Boosting"
   ]
  },
  {
   "cell_type": "code",
   "execution_count": 42,
   "id": "562e5ab2",
   "metadata": {},
   "outputs": [],
   "source": [
    "from sklearn.ensemble import GradientBoostingClassifier"
   ]
  },
  {
   "cell_type": "code",
   "execution_count": 43,
   "id": "d070c659",
   "metadata": {},
   "outputs": [
    {
     "name": "stdout",
     "output_type": "stream",
     "text": [
      "0.9220055710306406\n"
     ]
    }
   ],
   "source": [
    "boost_class = GradientBoostingClassifier(n_estimators=50).fit(X_train,y_train)\n",
    "boost_predict = boost_class.predict(X_test)\n",
    "print(accuracy_score(boost_predict, y_test))"
   ]
  },
  {
   "cell_type": "markdown",
   "id": "24173773",
   "metadata": {},
   "source": [
    "## Clustering\n",
    "\n",
    "Clustering algorithms are the strategies that we can use to group data in such a way that all the data belonging to a group are as similar as possible to each other, and as different as possible from other groups.\n",
    "\n",
    "Clustering application cases.\n",
    "<ul>\n",
    "    <li> We were previously unaware of our data labels (Unsupervised Learning). \n",
    "    <li> We want to discover hidden patterns with the naked eye. \n",
    "    <li> We want to identify outliers.\n",
    "</ul>\n",
    "\n",
    "<p align=\"center\">\n",
    "  <img src=\"./img/cluster_comparison.png\" width=\"800\" title=\"Outliers\">\n",
    "</p>\n",
    "\n",
    "\n",
    "\n",
    "If we know **k**  \n",
    "we will use **K-means** or **Spectral Clustering**\n",
    "\n",
    "If we don't know **k**  \n",
    "we will use **Meanshift**, **Clustering jerarquico** or **DBScan**\n",
    "    \n",
    "\n",
    "`Source` : <https://www.iartificial.net/clustering-agrupamiento-kmeans-ejemplos-en-python/>"
   ]
  },
  {
   "cell_type": "markdown",
   "id": "0e0c864e",
   "metadata": {},
   "source": [
    "### K-means"
   ]
  },
  {
   "cell_type": "code",
   "execution_count": 44,
   "id": "ea716583",
   "metadata": {},
   "outputs": [],
   "source": [
    "from sklearn.cluster import MiniBatchKMeans"
   ]
  },
  {
   "cell_type": "code",
   "execution_count": 45,
   "id": "c7752ec0",
   "metadata": {},
   "outputs": [
    {
     "name": "stdout",
     "output_type": "stream",
     "text": [
      "85\n"
     ]
    },
    {
     "data": {
      "text/html": [
       "<div>\n",
       "<style scoped>\n",
       "    .dataframe tbody tr th:only-of-type {\n",
       "        vertical-align: middle;\n",
       "    }\n",
       "\n",
       "    .dataframe tbody tr th {\n",
       "        vertical-align: top;\n",
       "    }\n",
       "\n",
       "    .dataframe thead th {\n",
       "        text-align: right;\n",
       "    }\n",
       "</style>\n",
       "<table border=\"1\" class=\"dataframe\">\n",
       "  <thead>\n",
       "    <tr style=\"text-align: right;\">\n",
       "      <th></th>\n",
       "      <th>competitorname</th>\n",
       "      <th>chocolate</th>\n",
       "      <th>fruity</th>\n",
       "      <th>caramel</th>\n",
       "      <th>peanutyalmondy</th>\n",
       "      <th>nougat</th>\n",
       "      <th>crispedricewafer</th>\n",
       "      <th>hard</th>\n",
       "      <th>bar</th>\n",
       "      <th>pluribus</th>\n",
       "      <th>sugarpercent</th>\n",
       "      <th>pricepercent</th>\n",
       "      <th>winpercent</th>\n",
       "    </tr>\n",
       "  </thead>\n",
       "  <tbody>\n",
       "    <tr>\n",
       "      <th>0</th>\n",
       "      <td>100 Grand</td>\n",
       "      <td>1</td>\n",
       "      <td>0</td>\n",
       "      <td>1</td>\n",
       "      <td>0</td>\n",
       "      <td>0</td>\n",
       "      <td>1</td>\n",
       "      <td>0</td>\n",
       "      <td>1</td>\n",
       "      <td>0</td>\n",
       "      <td>0.732</td>\n",
       "      <td>0.860</td>\n",
       "      <td>66.971725</td>\n",
       "    </tr>\n",
       "    <tr>\n",
       "      <th>1</th>\n",
       "      <td>3 Musketeers</td>\n",
       "      <td>1</td>\n",
       "      <td>0</td>\n",
       "      <td>0</td>\n",
       "      <td>0</td>\n",
       "      <td>1</td>\n",
       "      <td>0</td>\n",
       "      <td>0</td>\n",
       "      <td>1</td>\n",
       "      <td>0</td>\n",
       "      <td>0.604</td>\n",
       "      <td>0.511</td>\n",
       "      <td>67.602936</td>\n",
       "    </tr>\n",
       "    <tr>\n",
       "      <th>2</th>\n",
       "      <td>One dime</td>\n",
       "      <td>0</td>\n",
       "      <td>0</td>\n",
       "      <td>0</td>\n",
       "      <td>0</td>\n",
       "      <td>0</td>\n",
       "      <td>0</td>\n",
       "      <td>0</td>\n",
       "      <td>0</td>\n",
       "      <td>0</td>\n",
       "      <td>0.011</td>\n",
       "      <td>0.116</td>\n",
       "      <td>32.261086</td>\n",
       "    </tr>\n",
       "    <tr>\n",
       "      <th>3</th>\n",
       "      <td>One quarter</td>\n",
       "      <td>0</td>\n",
       "      <td>0</td>\n",
       "      <td>0</td>\n",
       "      <td>0</td>\n",
       "      <td>0</td>\n",
       "      <td>0</td>\n",
       "      <td>0</td>\n",
       "      <td>0</td>\n",
       "      <td>0</td>\n",
       "      <td>0.011</td>\n",
       "      <td>0.511</td>\n",
       "      <td>46.116505</td>\n",
       "    </tr>\n",
       "  </tbody>\n",
       "</table>\n",
       "</div>"
      ],
      "text/plain": [
       "  competitorname  chocolate  fruity  caramel  peanutyalmondy  nougat  \\\n",
       "0      100 Grand          1       0        1               0       0   \n",
       "1   3 Musketeers          1       0        0               0       1   \n",
       "2       One dime          0       0        0               0       0   \n",
       "3    One quarter          0       0        0               0       0   \n",
       "\n",
       "   crispedricewafer  hard  bar  pluribus  sugarpercent  pricepercent  \\\n",
       "0                 1     0    1         0         0.732         0.860   \n",
       "1                 0     0    1         0         0.604         0.511   \n",
       "2                 0     0    0         0         0.011         0.116   \n",
       "3                 0     0    0         0         0.011         0.511   \n",
       "\n",
       "   winpercent  \n",
       "0   66.971725  \n",
       "1   67.602936  \n",
       "2   32.261086  \n",
       "3   46.116505  "
      ]
     },
     "execution_count": 45,
     "metadata": {},
     "output_type": "execute_result"
    }
   ],
   "source": [
    "candy_df = pd.read_csv('./data/candy.csv')\n",
    "print(len(candy_df))\n",
    "candy_df.head(4)"
   ]
  },
  {
   "cell_type": "code",
   "execution_count": 46,
   "id": "07aca7fd",
   "metadata": {},
   "outputs": [],
   "source": [
    "X = candy_df.drop(['competitorname'], axis=1)"
   ]
  },
  {
   "cell_type": "code",
   "execution_count": 47,
   "id": "bb51d0b1",
   "metadata": {},
   "outputs": [
    {
     "name": "stdout",
     "output_type": "stream",
     "text": [
      "Total Clusters: 4\n"
     ]
    }
   ],
   "source": [
    "kmeans = MiniBatchKMeans(n_clusters=4, batch_size=8).fit(X)\n",
    "print('Total Clusters:', len(kmeans.cluster_centers_))"
   ]
  },
  {
   "cell_type": "code",
   "execution_count": 48,
   "id": "ce713a70",
   "metadata": {},
   "outputs": [
    {
     "name": "stdout",
     "output_type": "stream",
     "text": [
      "[1 1 3 0 2 2 2 3 0 3 0 0 3 0 0 0 0 0 2 3 2 0 2 2 2 2 3 2 1 0 0 2 1 1 0 2 1\n",
      " 2 1 2 2 2 1 1 3 0 0 1 0 0 0 1 1 1 1 3 1 3 0 3 2 2 0 0 1 2 2 2 1 3 3 3 3 2\n",
      " 2 0 0 2 0 1 0 0 0 0 2]\n"
     ]
    }
   ],
   "source": [
    "print(kmeans.predict(X))"
   ]
  },
  {
   "cell_type": "code",
   "execution_count": 49,
   "id": "7ca5fb72",
   "metadata": {},
   "outputs": [
    {
     "data": {
      "text/html": [
       "<div>\n",
       "<style scoped>\n",
       "    .dataframe tbody tr th:only-of-type {\n",
       "        vertical-align: middle;\n",
       "    }\n",
       "\n",
       "    .dataframe tbody tr th {\n",
       "        vertical-align: top;\n",
       "    }\n",
       "\n",
       "    .dataframe thead th {\n",
       "        text-align: right;\n",
       "    }\n",
       "</style>\n",
       "<table border=\"1\" class=\"dataframe\">\n",
       "  <thead>\n",
       "    <tr style=\"text-align: right;\">\n",
       "      <th></th>\n",
       "      <th>competitorname</th>\n",
       "      <th>chocolate</th>\n",
       "      <th>fruity</th>\n",
       "      <th>caramel</th>\n",
       "      <th>peanutyalmondy</th>\n",
       "      <th>nougat</th>\n",
       "      <th>crispedricewafer</th>\n",
       "      <th>hard</th>\n",
       "      <th>bar</th>\n",
       "      <th>pluribus</th>\n",
       "      <th>sugarpercent</th>\n",
       "      <th>pricepercent</th>\n",
       "      <th>winpercent</th>\n",
       "      <th>kmeans</th>\n",
       "    </tr>\n",
       "  </thead>\n",
       "  <tbody>\n",
       "    <tr>\n",
       "      <th>21</th>\n",
       "      <td>Haribo Twin Snakes</td>\n",
       "      <td>0</td>\n",
       "      <td>1</td>\n",
       "      <td>0</td>\n",
       "      <td>0</td>\n",
       "      <td>0</td>\n",
       "      <td>0</td>\n",
       "      <td>0</td>\n",
       "      <td>0</td>\n",
       "      <td>1</td>\n",
       "      <td>0.465</td>\n",
       "      <td>0.465</td>\n",
       "      <td>42.178772</td>\n",
       "      <td>0</td>\n",
       "    </tr>\n",
       "    <tr>\n",
       "      <th>41</th>\n",
       "      <td>Nerds</td>\n",
       "      <td>0</td>\n",
       "      <td>1</td>\n",
       "      <td>0</td>\n",
       "      <td>0</td>\n",
       "      <td>0</td>\n",
       "      <td>0</td>\n",
       "      <td>1</td>\n",
       "      <td>0</td>\n",
       "      <td>1</td>\n",
       "      <td>0.848</td>\n",
       "      <td>0.325</td>\n",
       "      <td>55.354046</td>\n",
       "      <td>2</td>\n",
       "    </tr>\n",
       "    <tr>\n",
       "      <th>59</th>\n",
       "      <td>Sixlets</td>\n",
       "      <td>1</td>\n",
       "      <td>0</td>\n",
       "      <td>0</td>\n",
       "      <td>0</td>\n",
       "      <td>0</td>\n",
       "      <td>0</td>\n",
       "      <td>0</td>\n",
       "      <td>0</td>\n",
       "      <td>1</td>\n",
       "      <td>0.220</td>\n",
       "      <td>0.081</td>\n",
       "      <td>34.722000</td>\n",
       "      <td>3</td>\n",
       "    </tr>\n",
       "    <tr>\n",
       "      <th>29</th>\n",
       "      <td>Laffy Taffy</td>\n",
       "      <td>0</td>\n",
       "      <td>1</td>\n",
       "      <td>0</td>\n",
       "      <td>0</td>\n",
       "      <td>0</td>\n",
       "      <td>0</td>\n",
       "      <td>0</td>\n",
       "      <td>0</td>\n",
       "      <td>0</td>\n",
       "      <td>0.220</td>\n",
       "      <td>0.116</td>\n",
       "      <td>41.389557</td>\n",
       "      <td>0</td>\n",
       "    </tr>\n",
       "  </tbody>\n",
       "</table>\n",
       "</div>"
      ],
      "text/plain": [
       "        competitorname  chocolate  fruity  caramel  peanutyalmondy  nougat  \\\n",
       "21  Haribo Twin Snakes          0       1        0               0       0   \n",
       "41               Nerds          0       1        0               0       0   \n",
       "59             Sixlets          1       0        0               0       0   \n",
       "29         Laffy Taffy          0       1        0               0       0   \n",
       "\n",
       "    crispedricewafer  hard  bar  pluribus  sugarpercent  pricepercent  \\\n",
       "21                 0     0    0         1         0.465         0.465   \n",
       "41                 0     1    0         1         0.848         0.325   \n",
       "59                 0     0    0         1         0.220         0.081   \n",
       "29                 0     0    0         0         0.220         0.116   \n",
       "\n",
       "    winpercent  kmeans  \n",
       "21   42.178772       0  \n",
       "41   55.354046       2  \n",
       "59   34.722000       3  \n",
       "29   41.389557       0  "
      ]
     },
     "execution_count": 49,
     "metadata": {},
     "output_type": "execute_result"
    }
   ],
   "source": [
    "candy_df['kmeans'] = kmeans.predict(X)\n",
    "candy_df.sample(4)"
   ]
  },
  {
   "cell_type": "markdown",
   "id": "dd28a956",
   "metadata": {},
   "source": [
    "### Mean-Shift"
   ]
  },
  {
   "cell_type": "code",
   "execution_count": 50,
   "id": "8f0df83d",
   "metadata": {},
   "outputs": [],
   "source": [
    "from sklearn.cluster import MeanShift"
   ]
  },
  {
   "cell_type": "code",
   "execution_count": 51,
   "id": "b40d2c6b",
   "metadata": {},
   "outputs": [
    {
     "name": "stdout",
     "output_type": "stream",
     "text": [
      "Total Clusters: 2\n"
     ]
    }
   ],
   "source": [
    "meanshift = MeanShift().fit(X)\n",
    "print('Total Clusters:', max(meanshift.labels_))"
   ]
  },
  {
   "cell_type": "code",
   "execution_count": 52,
   "id": "6c90c5d0",
   "metadata": {},
   "outputs": [
    {
     "name": "stdout",
     "output_type": "stream",
     "text": [
      "[2 2 0 0 1 1 1 0 0 0 0 0 0 0 0 0 0 1 1 0 1 0 1 2 1 2 0 1 2 0 0 1 2 2 0 1 2\n",
      " 2 2 1 1 1 2 2 0 0 0 2 0 0 0 2 2 2 2 0 2 0 0 0 2 1 0 0 2 2 2 1 2 0 0 0 0 1\n",
      " 1 0 0 1 1 2 0 0 0 0 1]\n"
     ]
    }
   ],
   "source": [
    "print(meanshift.labels_)"
   ]
  },
  {
   "cell_type": "code",
   "execution_count": 53,
   "id": "41f6c612",
   "metadata": {},
   "outputs": [
    {
     "name": "stdout",
     "output_type": "stream",
     "text": [
      "[[2.25000000e-01 5.75000000e-01 1.00000000e-01 2.50000000e-02\n",
      "  5.00000000e-02 2.50000000e-02 3.00000000e-01 1.00000000e-01\n",
      "  5.50000000e-01 4.57599993e-01 3.67824996e-01 4.10442122e+01]\n",
      " [4.68750000e-01 5.00000000e-01 1.25000000e-01 1.56250000e-01\n",
      "  9.37500000e-02 6.25000000e-02 1.25000000e-01 3.12500000e-01\n",
      "  5.31250000e-01 4.57281243e-01 4.67874998e-01 5.21138597e+01]\n",
      " [8.26086957e-01 1.73913043e-01 3.04347826e-01 3.04347826e-01\n",
      "  1.73913043e-01 1.73913043e-01 0.00000000e+00 5.21739130e-01\n",
      "  4.34782609e-01 5.81391293e-01 6.38086963e-01 6.47120799e+01]]\n"
     ]
    }
   ],
   "source": [
    "print(meanshift.cluster_centers_)"
   ]
  },
  {
   "cell_type": "code",
   "execution_count": 54,
   "id": "341140aa",
   "metadata": {},
   "outputs": [
    {
     "data": {
      "text/html": [
       "<div>\n",
       "<style scoped>\n",
       "    .dataframe tbody tr th:only-of-type {\n",
       "        vertical-align: middle;\n",
       "    }\n",
       "\n",
       "    .dataframe tbody tr th {\n",
       "        vertical-align: top;\n",
       "    }\n",
       "\n",
       "    .dataframe thead th {\n",
       "        text-align: right;\n",
       "    }\n",
       "</style>\n",
       "<table border=\"1\" class=\"dataframe\">\n",
       "  <thead>\n",
       "    <tr style=\"text-align: right;\">\n",
       "      <th></th>\n",
       "      <th>competitorname</th>\n",
       "      <th>chocolate</th>\n",
       "      <th>fruity</th>\n",
       "      <th>caramel</th>\n",
       "      <th>peanutyalmondy</th>\n",
       "      <th>nougat</th>\n",
       "      <th>crispedricewafer</th>\n",
       "      <th>hard</th>\n",
       "      <th>bar</th>\n",
       "      <th>pluribus</th>\n",
       "      <th>sugarpercent</th>\n",
       "      <th>pricepercent</th>\n",
       "      <th>winpercent</th>\n",
       "      <th>kmeans</th>\n",
       "      <th>meanshift</th>\n",
       "    </tr>\n",
       "  </thead>\n",
       "  <tbody>\n",
       "    <tr>\n",
       "      <th>0</th>\n",
       "      <td>100 Grand</td>\n",
       "      <td>1</td>\n",
       "      <td>0</td>\n",
       "      <td>1</td>\n",
       "      <td>0</td>\n",
       "      <td>0</td>\n",
       "      <td>1</td>\n",
       "      <td>0</td>\n",
       "      <td>1</td>\n",
       "      <td>0</td>\n",
       "      <td>0.732</td>\n",
       "      <td>0.860</td>\n",
       "      <td>66.971725</td>\n",
       "      <td>1</td>\n",
       "      <td>2</td>\n",
       "    </tr>\n",
       "    <tr>\n",
       "      <th>1</th>\n",
       "      <td>3 Musketeers</td>\n",
       "      <td>1</td>\n",
       "      <td>0</td>\n",
       "      <td>0</td>\n",
       "      <td>0</td>\n",
       "      <td>1</td>\n",
       "      <td>0</td>\n",
       "      <td>0</td>\n",
       "      <td>1</td>\n",
       "      <td>0</td>\n",
       "      <td>0.604</td>\n",
       "      <td>0.511</td>\n",
       "      <td>67.602936</td>\n",
       "      <td>1</td>\n",
       "      <td>2</td>\n",
       "    </tr>\n",
       "    <tr>\n",
       "      <th>2</th>\n",
       "      <td>One dime</td>\n",
       "      <td>0</td>\n",
       "      <td>0</td>\n",
       "      <td>0</td>\n",
       "      <td>0</td>\n",
       "      <td>0</td>\n",
       "      <td>0</td>\n",
       "      <td>0</td>\n",
       "      <td>0</td>\n",
       "      <td>0</td>\n",
       "      <td>0.011</td>\n",
       "      <td>0.116</td>\n",
       "      <td>32.261086</td>\n",
       "      <td>3</td>\n",
       "      <td>0</td>\n",
       "    </tr>\n",
       "    <tr>\n",
       "      <th>3</th>\n",
       "      <td>One quarter</td>\n",
       "      <td>0</td>\n",
       "      <td>0</td>\n",
       "      <td>0</td>\n",
       "      <td>0</td>\n",
       "      <td>0</td>\n",
       "      <td>0</td>\n",
       "      <td>0</td>\n",
       "      <td>0</td>\n",
       "      <td>0</td>\n",
       "      <td>0.011</td>\n",
       "      <td>0.511</td>\n",
       "      <td>46.116505</td>\n",
       "      <td>0</td>\n",
       "      <td>0</td>\n",
       "    </tr>\n",
       "    <tr>\n",
       "      <th>4</th>\n",
       "      <td>Air Heads</td>\n",
       "      <td>0</td>\n",
       "      <td>1</td>\n",
       "      <td>0</td>\n",
       "      <td>0</td>\n",
       "      <td>0</td>\n",
       "      <td>0</td>\n",
       "      <td>0</td>\n",
       "      <td>0</td>\n",
       "      <td>0</td>\n",
       "      <td>0.906</td>\n",
       "      <td>0.511</td>\n",
       "      <td>52.341465</td>\n",
       "      <td>2</td>\n",
       "      <td>1</td>\n",
       "    </tr>\n",
       "    <tr>\n",
       "      <th>5</th>\n",
       "      <td>Almond Joy</td>\n",
       "      <td>1</td>\n",
       "      <td>0</td>\n",
       "      <td>0</td>\n",
       "      <td>1</td>\n",
       "      <td>0</td>\n",
       "      <td>0</td>\n",
       "      <td>0</td>\n",
       "      <td>1</td>\n",
       "      <td>0</td>\n",
       "      <td>0.465</td>\n",
       "      <td>0.767</td>\n",
       "      <td>50.347546</td>\n",
       "      <td>2</td>\n",
       "      <td>1</td>\n",
       "    </tr>\n",
       "    <tr>\n",
       "      <th>6</th>\n",
       "      <td>Baby Ruth</td>\n",
       "      <td>1</td>\n",
       "      <td>0</td>\n",
       "      <td>1</td>\n",
       "      <td>1</td>\n",
       "      <td>1</td>\n",
       "      <td>0</td>\n",
       "      <td>0</td>\n",
       "      <td>1</td>\n",
       "      <td>0</td>\n",
       "      <td>0.604</td>\n",
       "      <td>0.767</td>\n",
       "      <td>56.914547</td>\n",
       "      <td>2</td>\n",
       "      <td>1</td>\n",
       "    </tr>\n",
       "    <tr>\n",
       "      <th>7</th>\n",
       "      <td>Boston Baked Beans</td>\n",
       "      <td>0</td>\n",
       "      <td>0</td>\n",
       "      <td>0</td>\n",
       "      <td>1</td>\n",
       "      <td>0</td>\n",
       "      <td>0</td>\n",
       "      <td>0</td>\n",
       "      <td>0</td>\n",
       "      <td>1</td>\n",
       "      <td>0.313</td>\n",
       "      <td>0.511</td>\n",
       "      <td>23.417824</td>\n",
       "      <td>3</td>\n",
       "      <td>0</td>\n",
       "    </tr>\n",
       "    <tr>\n",
       "      <th>8</th>\n",
       "      <td>Candy Corn</td>\n",
       "      <td>0</td>\n",
       "      <td>0</td>\n",
       "      <td>0</td>\n",
       "      <td>0</td>\n",
       "      <td>0</td>\n",
       "      <td>0</td>\n",
       "      <td>0</td>\n",
       "      <td>0</td>\n",
       "      <td>1</td>\n",
       "      <td>0.906</td>\n",
       "      <td>0.325</td>\n",
       "      <td>38.010963</td>\n",
       "      <td>0</td>\n",
       "      <td>0</td>\n",
       "    </tr>\n",
       "    <tr>\n",
       "      <th>9</th>\n",
       "      <td>Caramel Apple Pops</td>\n",
       "      <td>0</td>\n",
       "      <td>1</td>\n",
       "      <td>1</td>\n",
       "      <td>0</td>\n",
       "      <td>0</td>\n",
       "      <td>0</td>\n",
       "      <td>0</td>\n",
       "      <td>0</td>\n",
       "      <td>0</td>\n",
       "      <td>0.604</td>\n",
       "      <td>0.325</td>\n",
       "      <td>34.517681</td>\n",
       "      <td>3</td>\n",
       "      <td>0</td>\n",
       "    </tr>\n",
       "  </tbody>\n",
       "</table>\n",
       "</div>"
      ],
      "text/plain": [
       "       competitorname  chocolate  fruity  caramel  peanutyalmondy  nougat  \\\n",
       "0           100 Grand          1       0        1               0       0   \n",
       "1        3 Musketeers          1       0        0               0       1   \n",
       "2            One dime          0       0        0               0       0   \n",
       "3         One quarter          0       0        0               0       0   \n",
       "4           Air Heads          0       1        0               0       0   \n",
       "5          Almond Joy          1       0        0               1       0   \n",
       "6           Baby Ruth          1       0        1               1       1   \n",
       "7  Boston Baked Beans          0       0        0               1       0   \n",
       "8          Candy Corn          0       0        0               0       0   \n",
       "9  Caramel Apple Pops          0       1        1               0       0   \n",
       "\n",
       "   crispedricewafer  hard  bar  pluribus  sugarpercent  pricepercent  \\\n",
       "0                 1     0    1         0         0.732         0.860   \n",
       "1                 0     0    1         0         0.604         0.511   \n",
       "2                 0     0    0         0         0.011         0.116   \n",
       "3                 0     0    0         0         0.011         0.511   \n",
       "4                 0     0    0         0         0.906         0.511   \n",
       "5                 0     0    1         0         0.465         0.767   \n",
       "6                 0     0    1         0         0.604         0.767   \n",
       "7                 0     0    0         1         0.313         0.511   \n",
       "8                 0     0    0         1         0.906         0.325   \n",
       "9                 0     0    0         0         0.604         0.325   \n",
       "\n",
       "   winpercent  kmeans  meanshift  \n",
       "0   66.971725       1          2  \n",
       "1   67.602936       1          2  \n",
       "2   32.261086       3          0  \n",
       "3   46.116505       0          0  \n",
       "4   52.341465       2          1  \n",
       "5   50.347546       2          1  \n",
       "6   56.914547       2          1  \n",
       "7   23.417824       3          0  \n",
       "8   38.010963       0          0  \n",
       "9   34.517681       3          0  "
      ]
     },
     "execution_count": 54,
     "metadata": {},
     "output_type": "execute_result"
    }
   ],
   "source": [
    "candy_df['meanshift'] = meanshift.labels_\n",
    "candy_df.head(10)"
   ]
  },
  {
   "cell_type": "markdown",
   "id": "b4385ef3",
   "metadata": {},
   "source": [
    "## Parametric Optimization"
   ]
  },
  {
   "cell_type": "markdown",
   "id": "89dd3e4e",
   "metadata": {},
   "source": [
    "### Hold Out\n",
    "\n",
    "<ul>\n",
    "    <li> We do not have much knowledge\n",
    "    <li> We want rapid prototypes\n",
    "    <li> We have no computing power.\n",
    "</ul>\n",
    "\n",
    "<p align=\"center\">\n",
    "  <img src=\"./img/holdout.jpg\" width=\"500\" title=\"Outliers\">\n",
    "</p>\n"
   ]
  },
  {
   "cell_type": "markdown",
   "id": "24d1d957",
   "metadata": {},
   "source": [
    "### K-fold: Cross Validation\n",
    "\n",
    "<ul>\n",
    "    <li> Recommended in most cases.\n",
    "    <li> There is a sufficient team to develop ML.\n",
    "    <li> Integration with parametric optimization techniques is required.\n",
    "    <li> You have more time for testing.\n",
    "</ul>\n",
    "\n",
    "<p align=\"center\">\n",
    "  <img src=\"./img/K-fold_cross_validation.jpg\" width=\"500\" title=\"Outliers\">\n",
    "</p>"
   ]
  },
  {
   "cell_type": "code",
   "execution_count": 76,
   "id": "fbb8fba7",
   "metadata": {},
   "outputs": [],
   "source": [
    "from sklearn.tree import DecisionTreeRegressor\n",
    "from sklearn.model_selection import cross_val_score, KFold\n",
    "from sklearn.metrics import mean_squared_error"
   ]
  },
  {
   "cell_type": "code",
   "execution_count": 57,
   "id": "9e75fdb1",
   "metadata": {},
   "outputs": [
    {
     "data": {
      "text/html": [
       "<div>\n",
       "<style scoped>\n",
       "    .dataframe tbody tr th:only-of-type {\n",
       "        vertical-align: middle;\n",
       "    }\n",
       "\n",
       "    .dataframe tbody tr th {\n",
       "        vertical-align: top;\n",
       "    }\n",
       "\n",
       "    .dataframe thead th {\n",
       "        text-align: right;\n",
       "    }\n",
       "</style>\n",
       "<table border=\"1\" class=\"dataframe\">\n",
       "  <thead>\n",
       "    <tr style=\"text-align: right;\">\n",
       "      <th></th>\n",
       "      <th>country</th>\n",
       "      <th>rank</th>\n",
       "      <th>score</th>\n",
       "      <th>high</th>\n",
       "      <th>low</th>\n",
       "      <th>gdp</th>\n",
       "      <th>family</th>\n",
       "      <th>lifexp</th>\n",
       "      <th>freedom</th>\n",
       "      <th>generosity</th>\n",
       "      <th>corruption</th>\n",
       "      <th>dystopia</th>\n",
       "    </tr>\n",
       "  </thead>\n",
       "  <tbody>\n",
       "    <tr>\n",
       "      <th>0</th>\n",
       "      <td>Norway</td>\n",
       "      <td>1</td>\n",
       "      <td>7.537</td>\n",
       "      <td>7.594445</td>\n",
       "      <td>7.479556</td>\n",
       "      <td>1.616463</td>\n",
       "      <td>1.533524</td>\n",
       "      <td>0.796667</td>\n",
       "      <td>0.635423</td>\n",
       "      <td>0.362012</td>\n",
       "      <td>0.315964</td>\n",
       "      <td>2.277027</td>\n",
       "    </tr>\n",
       "    <tr>\n",
       "      <th>1</th>\n",
       "      <td>Denmark</td>\n",
       "      <td>2</td>\n",
       "      <td>7.522</td>\n",
       "      <td>7.581728</td>\n",
       "      <td>7.462272</td>\n",
       "      <td>1.482383</td>\n",
       "      <td>1.551122</td>\n",
       "      <td>0.792566</td>\n",
       "      <td>0.626007</td>\n",
       "      <td>0.355280</td>\n",
       "      <td>0.400770</td>\n",
       "      <td>2.313707</td>\n",
       "    </tr>\n",
       "    <tr>\n",
       "      <th>2</th>\n",
       "      <td>Iceland</td>\n",
       "      <td>3</td>\n",
       "      <td>7.504</td>\n",
       "      <td>7.622030</td>\n",
       "      <td>7.385970</td>\n",
       "      <td>1.480633</td>\n",
       "      <td>1.610574</td>\n",
       "      <td>0.833552</td>\n",
       "      <td>0.627163</td>\n",
       "      <td>0.475540</td>\n",
       "      <td>0.153527</td>\n",
       "      <td>2.322715</td>\n",
       "    </tr>\n",
       "    <tr>\n",
       "      <th>3</th>\n",
       "      <td>Switzerland</td>\n",
       "      <td>4</td>\n",
       "      <td>7.494</td>\n",
       "      <td>7.561772</td>\n",
       "      <td>7.426227</td>\n",
       "      <td>1.564980</td>\n",
       "      <td>1.516912</td>\n",
       "      <td>0.858131</td>\n",
       "      <td>0.620071</td>\n",
       "      <td>0.290549</td>\n",
       "      <td>0.367007</td>\n",
       "      <td>2.276716</td>\n",
       "    </tr>\n",
       "    <tr>\n",
       "      <th>4</th>\n",
       "      <td>Finland</td>\n",
       "      <td>5</td>\n",
       "      <td>7.469</td>\n",
       "      <td>7.527542</td>\n",
       "      <td>7.410458</td>\n",
       "      <td>1.443572</td>\n",
       "      <td>1.540247</td>\n",
       "      <td>0.809158</td>\n",
       "      <td>0.617951</td>\n",
       "      <td>0.245483</td>\n",
       "      <td>0.382612</td>\n",
       "      <td>2.430182</td>\n",
       "    </tr>\n",
       "  </tbody>\n",
       "</table>\n",
       "</div>"
      ],
      "text/plain": [
       "       country  rank  score      high       low       gdp    family    lifexp  \\\n",
       "0       Norway     1  7.537  7.594445  7.479556  1.616463  1.533524  0.796667   \n",
       "1      Denmark     2  7.522  7.581728  7.462272  1.482383  1.551122  0.792566   \n",
       "2      Iceland     3  7.504  7.622030  7.385970  1.480633  1.610574  0.833552   \n",
       "3  Switzerland     4  7.494  7.561772  7.426227  1.564980  1.516912  0.858131   \n",
       "4      Finland     5  7.469  7.527542  7.410458  1.443572  1.540247  0.809158   \n",
       "\n",
       "    freedom  generosity  corruption  dystopia  \n",
       "0  0.635423    0.362012    0.315964  2.277027  \n",
       "1  0.626007    0.355280    0.400770  2.313707  \n",
       "2  0.627163    0.475540    0.153527  2.322715  \n",
       "3  0.620071    0.290549    0.367007  2.276716  \n",
       "4  0.617951    0.245483    0.382612  2.430182  "
      ]
     },
     "execution_count": 57,
     "metadata": {},
     "output_type": "execute_result"
    }
   ],
   "source": [
    "felicidad_df = pd.read_csv('./data/felicidad.csv')\n",
    "felicidad_df.head(5)"
   ]
  },
  {
   "cell_type": "code",
   "execution_count": 70,
   "id": "1e623abc",
   "metadata": {},
   "outputs": [],
   "source": [
    "X = felicidad_df.drop(['score','country'], axis=1)\n",
    "y = felicidad_df['score']"
   ]
  },
  {
   "cell_type": "code",
   "execution_count": 71,
   "id": "d0e620b4",
   "metadata": {},
   "outputs": [
    {
     "name": "stdout",
     "output_type": "stream",
     "text": [
      "0.5555586884261041\n"
     ]
    }
   ],
   "source": [
    "model = DecisionTreeRegressor()\n",
    "score = cross_val_score(model, X, y, cv=3, scoring='neg_mean_squared_error')\n",
    "print(np.abs(np.mean(score)))"
   ]
  },
  {
   "cell_type": "code",
   "execution_count": 91,
   "id": "1230b8df",
   "metadata": {},
   "outputs": [
    {
     "name": "stdout",
     "output_type": "stream",
     "text": [
      "Los tres MSE fueron:  [0.006362268713187513, 0.004804167839378178, 0.005590139331215028]\n",
      "El MSE promedio fue:  0.005585525294593573\n"
     ]
    }
   ],
   "source": [
    "# Cross Validation\n",
    "\n",
    "mse_values = []\n",
    "\n",
    "kf = KFold(n_splits=3, shuffle=True, random_state=42)\n",
    "for train,test in kf.split(X):\n",
    "    \n",
    "    X_train = pd.DataFrame(columns=list(X),index=range(len(train)))\n",
    "    X_test = pd.DataFrame(columns=list(X),index=range(len(test)))\n",
    "    \n",
    "    y_train = pd.DataFrame(columns=['score'],index=range(len(train)))\n",
    "    y_test = pd.DataFrame(columns=['score'],index=range(len(test)))\n",
    "    \n",
    "    for i in range(len(train)):\n",
    "        X_train.iloc[i] = X.iloc[train[i]]\n",
    "        y_train.iloc[i] = y.iloc[train[i]]\n",
    "    for j in range(len(test)):\n",
    "        X_test.iloc[j] = X.iloc[test[j]]\n",
    "        y_test.iloc[j] = y.iloc[test[j]]\n",
    "        \n",
    "    model = DecisionTreeRegressor().fit(X_train,y_train)\n",
    "    predict = model.predict(X_test)\n",
    "    mse_values.append(mean_squared_error(y_test,predict))\n",
    "\n",
    "print(\"Los tres MSE fueron: \",mse_values)\n",
    "print(\"El MSE promedio fue: \", np.mean(mse_values))"
   ]
  },
  {
   "cell_type": "markdown",
   "id": "eedbae11",
   "metadata": {},
   "source": [
    "### LOOCV\n",
    "\n",
    "<ul>\n",
    "    <li> It has great computing power\n",
    "    <li> There is little data to be able to divide by Train / Test\n",
    "    <li> When you want to test all possible cases (for people with OCD)\n",
    "</ul>\n",
    "\n",
    "<p align=\"center\">\n",
    "  <img src=\"./img/loocv.png\" width=\"500\" title=\"loocv\">\n",
    "</p>"
   ]
  },
  {
   "cell_type": "markdown",
   "id": "5d282d76",
   "metadata": {},
   "source": [
    "### Hyperparameter Optimization\n",
    "\n",
    "Scikit Learn offers us approaches to automate the parametric optimization process. There are 3 main approaches, these are:\n",
    "<ul>\n",
    "    <li> Manual optimization\n",
    "    <li> Optimization by parameter grid | GridSearchCV.\n",
    "    <li> Randomized search optimization\n",
    "</ul>\n",
    "\n",
    "\n",
    "**Manual optimization**\n",
    "\n",
    "<ol>\n",
    "    <li> Choose the model that we want to adjust. \n",
    "    <li> Search the Scikit-Learn documentation \n",
    "    <li> Identify parameters and settings. Parameters that we are going to need and what are the possible adjustments that we are going to require for each of these parameters.\n",
    "    <li> Test combinations one by one by iterating through lists.\n",
    "</ol>\n",
    "\n",
    "**Optimization by parameter grid | GridSearchCV**\n",
    "\n",
    "It is an organized, exhaustive and systematic way of testing all the parameters that we tell you to test, with the respective ranges of values that we provide.\n",
    "\n",
    "<ol>\n",
    "    <li> Define one or more metrics that we want to optimize.\n",
    "    <li> Identify the possible values that the parameters may have.\n",
    "    <li> Create a parameter dictionary.\n",
    "    <li> Use Cross Validation.\n",
    "    <li>Train the model (and go for a coffee)\n",
    "</ol>\n",
    "\n",
    "The grid of parameters defines GROUPS OF PARAMETERS that will be tested in all their combinations (One group at a time)\n",
    "\n",
    "<p align=\"center\">\n",
    "  <img src=\"./img/gridsearch.png\" width=\"600\" title=\"gridsearch\">\n",
    "</p>\n",
    "\n",
    "\n",
    "\n",
    "\n",
    "**Randomized search optimization | RandomizedSearchCV**  \n",
    "If we do not have so much time for such an exhaustive test or we want random combinations we will use this method. It is the same as the previous case, but it randomly searches the parameters and Scikit Learn selects the best of the random combinations that were made.\n",
    "\n",
    "In this method, we define value scales for each of the selected parameters, the system will test several iterations (Configurable according to resources) and show the best combination found.\n",
    "\n",
    "<p align=\"center\">\n",
    "  <img src=\"./img/gridvsrandom.png\" width=\"600\" title=\"gridvsrandom\">\n",
    "</p>"
   ]
  },
  {
   "cell_type": "code",
   "execution_count": 93,
   "id": "9222f126",
   "metadata": {},
   "outputs": [],
   "source": [
    "from sklearn.model_selection import RandomizedSearchCV\n",
    "from sklearn.ensemble import RandomForestRegressor"
   ]
  },
  {
   "cell_type": "code",
   "execution_count": 95,
   "id": "5d8901cd",
   "metadata": {},
   "outputs": [
    {
     "data": {
      "text/html": [
       "<div>\n",
       "<style scoped>\n",
       "    .dataframe tbody tr th:only-of-type {\n",
       "        vertical-align: middle;\n",
       "    }\n",
       "\n",
       "    .dataframe tbody tr th {\n",
       "        vertical-align: top;\n",
       "    }\n",
       "\n",
       "    .dataframe thead th {\n",
       "        text-align: right;\n",
       "    }\n",
       "</style>\n",
       "<table border=\"1\" class=\"dataframe\">\n",
       "  <thead>\n",
       "    <tr style=\"text-align: right;\">\n",
       "      <th></th>\n",
       "      <th>country</th>\n",
       "      <th>rank</th>\n",
       "      <th>score</th>\n",
       "      <th>high</th>\n",
       "      <th>low</th>\n",
       "      <th>gdp</th>\n",
       "      <th>family</th>\n",
       "      <th>lifexp</th>\n",
       "      <th>freedom</th>\n",
       "      <th>generosity</th>\n",
       "      <th>corruption</th>\n",
       "      <th>dystopia</th>\n",
       "    </tr>\n",
       "  </thead>\n",
       "  <tbody>\n",
       "    <tr>\n",
       "      <th>0</th>\n",
       "      <td>Norway</td>\n",
       "      <td>1</td>\n",
       "      <td>7.537</td>\n",
       "      <td>7.594445</td>\n",
       "      <td>7.479556</td>\n",
       "      <td>1.616463</td>\n",
       "      <td>1.533524</td>\n",
       "      <td>0.796667</td>\n",
       "      <td>0.635423</td>\n",
       "      <td>0.362012</td>\n",
       "      <td>0.315964</td>\n",
       "      <td>2.277027</td>\n",
       "    </tr>\n",
       "    <tr>\n",
       "      <th>1</th>\n",
       "      <td>Denmark</td>\n",
       "      <td>2</td>\n",
       "      <td>7.522</td>\n",
       "      <td>7.581728</td>\n",
       "      <td>7.462272</td>\n",
       "      <td>1.482383</td>\n",
       "      <td>1.551122</td>\n",
       "      <td>0.792566</td>\n",
       "      <td>0.626007</td>\n",
       "      <td>0.355280</td>\n",
       "      <td>0.400770</td>\n",
       "      <td>2.313707</td>\n",
       "    </tr>\n",
       "    <tr>\n",
       "      <th>2</th>\n",
       "      <td>Iceland</td>\n",
       "      <td>3</td>\n",
       "      <td>7.504</td>\n",
       "      <td>7.622030</td>\n",
       "      <td>7.385970</td>\n",
       "      <td>1.480633</td>\n",
       "      <td>1.610574</td>\n",
       "      <td>0.833552</td>\n",
       "      <td>0.627163</td>\n",
       "      <td>0.475540</td>\n",
       "      <td>0.153527</td>\n",
       "      <td>2.322715</td>\n",
       "    </tr>\n",
       "    <tr>\n",
       "      <th>3</th>\n",
       "      <td>Switzerland</td>\n",
       "      <td>4</td>\n",
       "      <td>7.494</td>\n",
       "      <td>7.561772</td>\n",
       "      <td>7.426227</td>\n",
       "      <td>1.564980</td>\n",
       "      <td>1.516912</td>\n",
       "      <td>0.858131</td>\n",
       "      <td>0.620071</td>\n",
       "      <td>0.290549</td>\n",
       "      <td>0.367007</td>\n",
       "      <td>2.276716</td>\n",
       "    </tr>\n",
       "    <tr>\n",
       "      <th>4</th>\n",
       "      <td>Finland</td>\n",
       "      <td>5</td>\n",
       "      <td>7.469</td>\n",
       "      <td>7.527542</td>\n",
       "      <td>7.410458</td>\n",
       "      <td>1.443572</td>\n",
       "      <td>1.540247</td>\n",
       "      <td>0.809158</td>\n",
       "      <td>0.617951</td>\n",
       "      <td>0.245483</td>\n",
       "      <td>0.382612</td>\n",
       "      <td>2.430182</td>\n",
       "    </tr>\n",
       "  </tbody>\n",
       "</table>\n",
       "</div>"
      ],
      "text/plain": [
       "       country  rank  score      high       low       gdp    family    lifexp  \\\n",
       "0       Norway     1  7.537  7.594445  7.479556  1.616463  1.533524  0.796667   \n",
       "1      Denmark     2  7.522  7.581728  7.462272  1.482383  1.551122  0.792566   \n",
       "2      Iceland     3  7.504  7.622030  7.385970  1.480633  1.610574  0.833552   \n",
       "3  Switzerland     4  7.494  7.561772  7.426227  1.564980  1.516912  0.858131   \n",
       "4      Finland     5  7.469  7.527542  7.410458  1.443572  1.540247  0.809158   \n",
       "\n",
       "    freedom  generosity  corruption  dystopia  \n",
       "0  0.635423    0.362012    0.315964  2.277027  \n",
       "1  0.626007    0.355280    0.400770  2.313707  \n",
       "2  0.627163    0.475540    0.153527  2.322715  \n",
       "3  0.620071    0.290549    0.367007  2.276716  \n",
       "4  0.617951    0.245483    0.382612  2.430182  "
      ]
     },
     "execution_count": 95,
     "metadata": {},
     "output_type": "execute_result"
    }
   ],
   "source": [
    "felicidad_df = pd.read_csv('./data/felicidad.csv')\n",
    "felicidad_df.head(5)"
   ]
  },
  {
   "cell_type": "code",
   "execution_count": 97,
   "id": "f0311166",
   "metadata": {},
   "outputs": [],
   "source": [
    "X = felicidad_df.drop(['score','country', 'rank'], axis=1)\n",
    "y = felicidad_df['score']"
   ]
  },
  {
   "cell_type": "code",
   "execution_count": 94,
   "id": "9de4bad0",
   "metadata": {},
   "outputs": [],
   "source": [
    "reg = RandomForestRegressor()"
   ]
  },
  {
   "cell_type": "code",
   "execution_count": 100,
   "id": "fb0aea85",
   "metadata": {},
   "outputs": [],
   "source": [
    "param = {\n",
    "    'n_estimators': range(4,16),\n",
    "    'criterion': ['mse', 'mae'],\n",
    "    'max_depth': range(2,11)\n",
    "    }\n",
    "rand_est =  RandomizedSearchCV(reg, param, n_iter=10, cv=3, scoring='neg_mean_absolute_error').fit(X, y)"
   ]
  },
  {
   "cell_type": "code",
   "execution_count": 101,
   "id": "61f58e23",
   "metadata": {},
   "outputs": [
    {
     "name": "stdout",
     "output_type": "stream",
     "text": [
      "RandomForestRegressor(criterion='mae', max_depth=9, n_estimators=4)\n"
     ]
    }
   ],
   "source": [
    "print(rand_est.best_estimator_)"
   ]
  },
  {
   "cell_type": "code",
   "execution_count": 104,
   "id": "6df48392",
   "metadata": {},
   "outputs": [
    {
     "name": "stdout",
     "output_type": "stream",
     "text": [
      "-0.6065381981725427\n"
     ]
    }
   ],
   "source": [
    "print(rand_est.best_score_)"
   ]
  },
  {
   "cell_type": "code",
   "execution_count": 103,
   "id": "024bfb76",
   "metadata": {},
   "outputs": [
    {
     "name": "stdout",
     "output_type": "stream",
     "text": [
      "[7.50174987]\n"
     ]
    }
   ],
   "source": [
    "print(rand_est.predict(X.loc[[0]]))"
   ]
  }
 ],
 "metadata": {
  "kernelspec": {
   "display_name": "Python 3 (ipykernel)",
   "language": "python",
   "name": "python3"
  },
  "language_info": {
   "codemirror_mode": {
    "name": "ipython",
    "version": 3
   },
   "file_extension": ".py",
   "mimetype": "text/x-python",
   "name": "python",
   "nbconvert_exporter": "python",
   "pygments_lexer": "ipython3",
   "version": "3.9.7"
  }
 },
 "nbformat": 4,
 "nbformat_minor": 5
}
